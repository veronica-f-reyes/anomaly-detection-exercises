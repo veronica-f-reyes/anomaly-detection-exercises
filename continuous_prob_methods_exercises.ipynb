{
 "cells": [
  {
   "cell_type": "markdown",
   "id": "e2977bd7",
   "metadata": {},
   "source": [
    "# Continuous Probabilistic Methods Exercises\n",
    "***"
   ]
  },
  {
   "cell_type": "markdown",
   "id": "e6046f26",
   "metadata": {},
   "source": [
    "### 1. Using lemonade.csv dataset and focusing on continuous variables:\n",
    "\n",
    "- a.)  Use the IQR Range Rule and the upper and lower bounds to identify the lower outliers of each column of lemonade.csv, using the multiplier of 1.5. Do these lower outliers make sense? Which outliers should be kept?\n",
    "- b.) Use the IQR Range Rule and the upper and lower bounds to identify the upper outliers of each column of lemonade.csv, using the multiplier of 1.5. Do these lower outliers make sense?Which outliers should be kept?\n",
    "- c.) Using the multiplier of 3, IQR Range Rule, and the lower and upper bounds, identify the outliers below the lower bound in each colum of lemonade.csv. Do these lower outliers make sense?Which outliers should be kept?\n",
    "- d.) Using the multiplier of 3, IQR Range Rule, and the lower and upper bounds, identify the outliers above the upper_bound in each colum of lemonade.csv. Do these upper outliers make sense? Which outliers should be kept?"
   ]
  },
  {
   "cell_type": "code",
   "execution_count": 1,
   "id": "da6d1fde",
   "metadata": {},
   "outputs": [],
   "source": [
    "#Import Libraries\n",
    "\n",
    "import numpy as np\n",
    "import pandas as pd\n",
    "import matplotlib.pyplot as plt\n",
    "import seaborn as sns\n",
    "import itertools\n",
    "\n",
    "#Import custom functions\n",
    "import continuous_probabilistic_methods as cpm"
   ]
  },
  {
   "cell_type": "code",
   "execution_count": 2,
   "id": "6466eb94",
   "metadata": {},
   "outputs": [],
   "source": [
    "#Read lemonade data from .csv (link in class notebook) \n",
    "\n",
    "df = pd.read_csv('https://gist.githubusercontent.com/ryanorsinger/19bc7eccd6279661bd13307026628ace/raw/e4b5d6787015a4782f96cad6d1d62a8bdbac54c7/lemonade.csv')"
   ]
  },
  {
   "cell_type": "code",
   "execution_count": 3,
   "id": "eec9e376",
   "metadata": {},
   "outputs": [
    {
     "data": {
      "text/html": [
       "<div>\n",
       "<style scoped>\n",
       "    .dataframe tbody tr th:only-of-type {\n",
       "        vertical-align: middle;\n",
       "    }\n",
       "\n",
       "    .dataframe tbody tr th {\n",
       "        vertical-align: top;\n",
       "    }\n",
       "\n",
       "    .dataframe thead th {\n",
       "        text-align: right;\n",
       "    }\n",
       "</style>\n",
       "<table border=\"1\" class=\"dataframe\">\n",
       "  <thead>\n",
       "    <tr style=\"text-align: right;\">\n",
       "      <th></th>\n",
       "      <th>Date</th>\n",
       "      <th>Day</th>\n",
       "      <th>Temperature</th>\n",
       "      <th>Rainfall</th>\n",
       "      <th>Flyers</th>\n",
       "      <th>Price</th>\n",
       "      <th>Sales</th>\n",
       "    </tr>\n",
       "  </thead>\n",
       "  <tbody>\n",
       "    <tr>\n",
       "      <th>0</th>\n",
       "      <td>1/1/17</td>\n",
       "      <td>Sunday</td>\n",
       "      <td>27.0</td>\n",
       "      <td>2.00</td>\n",
       "      <td>15</td>\n",
       "      <td>0.5</td>\n",
       "      <td>10</td>\n",
       "    </tr>\n",
       "    <tr>\n",
       "      <th>1</th>\n",
       "      <td>1/2/17</td>\n",
       "      <td>Monday</td>\n",
       "      <td>28.9</td>\n",
       "      <td>1.33</td>\n",
       "      <td>15</td>\n",
       "      <td>0.5</td>\n",
       "      <td>13</td>\n",
       "    </tr>\n",
       "    <tr>\n",
       "      <th>2</th>\n",
       "      <td>1/3/17</td>\n",
       "      <td>Tuesday</td>\n",
       "      <td>34.5</td>\n",
       "      <td>1.33</td>\n",
       "      <td>27</td>\n",
       "      <td>0.5</td>\n",
       "      <td>15</td>\n",
       "    </tr>\n",
       "    <tr>\n",
       "      <th>3</th>\n",
       "      <td>1/4/17</td>\n",
       "      <td>Wednesday</td>\n",
       "      <td>44.1</td>\n",
       "      <td>1.05</td>\n",
       "      <td>28</td>\n",
       "      <td>0.5</td>\n",
       "      <td>17</td>\n",
       "    </tr>\n",
       "    <tr>\n",
       "      <th>4</th>\n",
       "      <td>1/5/17</td>\n",
       "      <td>Thursday</td>\n",
       "      <td>42.4</td>\n",
       "      <td>1.00</td>\n",
       "      <td>33</td>\n",
       "      <td>0.5</td>\n",
       "      <td>18</td>\n",
       "    </tr>\n",
       "  </tbody>\n",
       "</table>\n",
       "</div>"
      ],
      "text/plain": [
       "     Date        Day  Temperature  Rainfall  Flyers  Price  Sales\n",
       "0  1/1/17     Sunday         27.0      2.00      15    0.5     10\n",
       "1  1/2/17     Monday         28.9      1.33      15    0.5     13\n",
       "2  1/3/17    Tuesday         34.5      1.33      27    0.5     15\n",
       "3  1/4/17  Wednesday         44.1      1.05      28    0.5     17\n",
       "4  1/5/17   Thursday         42.4      1.00      33    0.5     18"
      ]
     },
     "execution_count": 3,
     "metadata": {},
     "output_type": "execute_result"
    }
   ],
   "source": [
    "df.head()"
   ]
  },
  {
   "cell_type": "code",
   "execution_count": 4,
   "id": "79054b0e",
   "metadata": {},
   "outputs": [
    {
     "name": "stdout",
     "output_type": "stream",
     "text": [
      "<class 'pandas.core.frame.DataFrame'>\n",
      "RangeIndex: 365 entries, 0 to 364\n",
      "Data columns (total 7 columns):\n",
      " #   Column       Non-Null Count  Dtype  \n",
      "---  ------       --------------  -----  \n",
      " 0   Date         365 non-null    object \n",
      " 1   Day          365 non-null    object \n",
      " 2   Temperature  365 non-null    float64\n",
      " 3   Rainfall     365 non-null    float64\n",
      " 4   Flyers       365 non-null    int64  \n",
      " 5   Price        365 non-null    float64\n",
      " 6   Sales        365 non-null    int64  \n",
      "dtypes: float64(3), int64(2), object(2)\n",
      "memory usage: 20.1+ KB\n"
     ]
    }
   ],
   "source": [
    "df.info()"
   ]
  },
  {
   "cell_type": "code",
   "execution_count": 5,
   "id": "29190947",
   "metadata": {},
   "outputs": [
    {
     "data": {
      "text/plain": [
       "49.7"
      ]
     },
     "execution_count": 5,
     "metadata": {},
     "output_type": "execute_result"
    }
   ],
   "source": [
    "df.Temperature.quantile(0.25)\n"
   ]
  },
  {
   "cell_type": "code",
   "execution_count": 6,
   "id": "e8efe205",
   "metadata": {},
   "outputs": [
    {
     "name": "stdout",
     "output_type": "stream",
     "text": [
      "Temperature Outliers with Multiplier:  1.5 \n",
      " Lower Bounds:  16.700000000000003 Upper Bounds 104.7 \n",
      "\n",
      "         Date       Day  Temperature  Rainfall  Flyers  Price  Sales\n",
      "41    2/11/17  Saturday        212.0      0.91      35    0.5     21\n",
      "364  12/31/17    Sunday         15.1      2.50       9    0.5      7\n",
      "\n",
      "\n",
      "Rainfall Outliers with Multiplier:  1.5 \n",
      " Lower Bounds:  0.26 Upper Bounds 1.3 \n",
      "\n",
      "         Date        Day  Temperature  Rainfall  Flyers  Price  Sales\n",
      "0      1/1/17     Sunday         27.0      2.00      15    0.5     10\n",
      "1      1/2/17     Monday         28.9      1.33      15    0.5     13\n",
      "2      1/3/17    Tuesday         34.5      1.33      27    0.5     15\n",
      "5      1/6/17     Friday         25.3      1.54      23    0.5     11\n",
      "6      1/7/17   Saturday         32.9      1.54      19    0.5     13\n",
      "10    1/11/17  Wednesday         32.6      1.54      23    0.5     12\n",
      "11    1/12/17   Thursday         38.2      1.33      16    0.5     14\n",
      "12    1/13/17     Friday         37.5      1.33      19    0.5     15\n",
      "15    1/16/17     Monday         30.6      1.67      24    0.5     12\n",
      "16    1/17/17    Tuesday         32.2      1.43      26    0.5     14\n",
      "19    1/20/17     Friday         31.6      1.43      20    0.5     12\n",
      "23    1/24/17    Tuesday         28.6      1.54      20    0.5     12\n",
      "27    1/28/17   Saturday         34.9      1.33      15    0.5     13\n",
      "28    1/29/17     Sunday         35.2      1.33      27    0.5     14\n",
      "337   12/4/17     Monday         34.9      1.54      16    0.5     13\n",
      "338   12/5/17    Tuesday         22.0      1.82      11    0.5     10\n",
      "342   12/9/17   Saturday         31.2      1.43      19    0.5     14\n",
      "343  12/10/17     Sunday         31.3      1.82      15    0.5     11\n",
      "345  12/12/17    Tuesday         33.5      1.33      22    0.5     15\n",
      "346  12/13/17  Wednesday         32.2      1.43      26    0.5     14\n",
      "347  12/14/17   Thursday         31.9      1.54      24    0.5     13\n",
      "350  12/17/17     Sunday         32.2      1.33      16    0.5     14\n",
      "351  12/18/17     Monday         30.9      1.43      27    0.5     13\n",
      "354  12/21/17   Thursday         40.5      1.33      23    0.5     15\n",
      "355  12/22/17     Friday         30.9      1.54      17    0.5     13\n",
      "359  12/26/17    Tuesday         28.9      1.43      23    0.5     13\n",
      "363  12/30/17   Saturday         30.9      1.43      22    0.5     13\n",
      "364  12/31/17     Sunday         15.1      2.50       9    0.5      7\n",
      "\n",
      "\n",
      "Flyers Outliers with Multiplier:  1.5 \n",
      " Lower Bounds:  4.0 Upper Bounds 76.0 \n",
      "\n",
      "         Date      Day  Temperature  Rainfall  Flyers  Price  Sales\n",
      "166   6/16/17   Friday         99.3      0.47      77    0.5     41\n",
      "194   7/14/17   Friday         92.0      0.50      80    0.5     40\n",
      "324  11/21/17  Tuesday         47.0      0.95     -38    0.5     20\n",
      "\n",
      "\n",
      "Price Outliers with Multiplier:  1.5 \n",
      " Lower Bounds:  0.5 Upper Bounds 0.5 \n",
      "\n",
      "Empty DataFrame\n",
      "Columns: [Date, Day, Temperature, Rainfall, Flyers, Price, Sales]\n",
      "Index: []\n",
      "\n",
      "\n",
      "Sales Outliers with Multiplier:  1.5 \n",
      " Lower Bounds:  5.0 Upper Bounds 45.0 \n",
      "\n",
      "       Date       Day  Temperature  Rainfall  Flyers  Price  Sales\n",
      "181  7/1/17  Saturday        102.9      0.47      59    0.5    143\n",
      "182  7/2/17    Sunday         93.4      0.51      68    0.5    158\n",
      "183  7/3/17    Monday         81.5      0.54      68    0.5    235\n",
      "184  7/4/17   Tuesday         84.2      0.59      49    0.5    534\n",
      "\n",
      "\n"
     ]
    }
   ],
   "source": [
    "# Using multiplier of 1.5, look for outliers\n",
    "\n",
    "for col in df[['Temperature','Rainfall','Flyers','Price','Sales']]:\n",
    "    \n",
    "    mult, lower, upper = cpm.get_lower_and_upper_bounds(df[col])\n",
    "    \n",
    "    print(col,\"Outliers with Multiplier: \",  mult,  \"\\n\",\"Lower Bounds: \", lower, \"Upper Bounds\", upper, \"\\n\")\n",
    "    print( df[(df[col] < lower) | (df[col] > upper)])\n",
    "    print('\\n')"
   ]
  },
  {
   "cell_type": "code",
   "execution_count": 7,
   "id": "150e3787",
   "metadata": {},
   "outputs": [
    {
     "name": "stdout",
     "output_type": "stream",
     "text": [
      "Temperature Outliers with Multiplier:  3 \n",
      " Lower Bounds:  -16.299999999999997 Upper Bounds 137.7 \n",
      "\n",
      "|    | Date    | Day      |   Temperature |   Rainfall |   Flyers |   Price |   Sales |\n",
      "|---:|:--------|:---------|--------------:|-----------:|---------:|--------:|--------:|\n",
      "| 41 | 2/11/17 | Saturday |           212 |       0.91 |       35 |     0.5 |      21 |\n",
      "\n",
      "\n",
      "Rainfall Outliers with Multiplier:  3 \n",
      " Lower Bounds:  -0.13 Upper Bounds 1.69 \n",
      "\n",
      "|     | Date     | Day     |   Temperature |   Rainfall |   Flyers |   Price |   Sales |\n",
      "|----:|:---------|:--------|--------------:|-----------:|---------:|--------:|--------:|\n",
      "|   0 | 1/1/17   | Sunday  |          27   |       2    |       15 |     0.5 |      10 |\n",
      "| 338 | 12/5/17  | Tuesday |          22   |       1.82 |       11 |     0.5 |      10 |\n",
      "| 343 | 12/10/17 | Sunday  |          31.3 |       1.82 |       15 |     0.5 |      11 |\n",
      "| 364 | 12/31/17 | Sunday  |          15.1 |       2.5  |        9 |     0.5 |       7 |\n",
      "\n",
      "\n",
      "Flyers Outliers with Multiplier:  3 \n",
      " Lower Bounds:  -23.0 Upper Bounds 103.0 \n",
      "\n",
      "|     | Date     | Day     |   Temperature |   Rainfall |   Flyers |   Price |   Sales |\n",
      "|----:|:---------|:--------|--------------:|-----------:|---------:|--------:|--------:|\n",
      "| 324 | 11/21/17 | Tuesday |            47 |       0.95 |      -38 |     0.5 |      20 |\n",
      "\n",
      "\n",
      "Price Outliers with Multiplier:  3 \n",
      " Lower Bounds:  0.5 Upper Bounds 0.5 \n",
      "\n",
      "| Date   | Day   | Temperature   | Rainfall   | Flyers   | Price   | Sales   |\n",
      "|--------|-------|---------------|------------|----------|---------|---------|\n",
      "\n",
      "\n",
      "Sales Outliers with Multiplier:  3 \n",
      " Lower Bounds:  -10.0 Upper Bounds 60.0 \n",
      "\n",
      "|     | Date   | Day      |   Temperature |   Rainfall |   Flyers |   Price |   Sales |\n",
      "|----:|:-------|:---------|--------------:|-----------:|---------:|--------:|--------:|\n",
      "| 181 | 7/1/17 | Saturday |         102.9 |       0.47 |       59 |     0.5 |     143 |\n",
      "| 182 | 7/2/17 | Sunday   |          93.4 |       0.51 |       68 |     0.5 |     158 |\n",
      "| 183 | 7/3/17 | Monday   |          81.5 |       0.54 |       68 |     0.5 |     235 |\n",
      "| 184 | 7/4/17 | Tuesday  |          84.2 |       0.59 |       49 |     0.5 |     534 |\n",
      "\n",
      "\n"
     ]
    }
   ],
   "source": [
    "# Looking for outliers with a mutliplier of 3\n",
    "\n",
    "for col in df[['Temperature','Rainfall','Flyers','Price','Sales']]:\n",
    "    \n",
    "    mult, lower, upper = cpm.get_lower_and_upper_bounds(df[col],3)\n",
    "    \n",
    "    print(col,\"Outliers with Multiplier: \",  mult,  \"\\n\",\"Lower Bounds: \", lower, \"Upper Bounds\", upper, \"\\n\")\n",
    "    print( df[(df[col] < lower) | (df[col] > upper)].to_markdown())\n",
    "    print('\\n')"
   ]
  },
  {
   "cell_type": "code",
   "execution_count": 8,
   "id": "de02b2df",
   "metadata": {},
   "outputs": [],
   "source": [
    "# Some of these outliers do not make sense like the Temperature of 212 or the Flyers of -38.  \n",
    "# And some, while deviating from the norm, may be valid like the Temperature of 15.1 on \n",
    "# December 31 or the sales of 143 in July and 534 on July 4th.  \n",
    "# Those may be kept and investigated more closely."
   ]
  },
  {
   "cell_type": "markdown",
   "id": "b8557e56",
   "metadata": {},
   "source": [
    "### 2. Identify if any columns in lemonade.csv are normally distributed. For normally distributed columns:\n",
    "\n",
    "- Use a 2 sigma decision rule to isolate the outliers.\n",
    "- Do these make sense?\n",
    "- Should certain outliers be kept or removed?"
   ]
  },
  {
   "cell_type": "code",
   "execution_count": 9,
   "id": "b4446fef",
   "metadata": {
    "scrolled": false
   },
   "outputs": [
    {
     "data": {
      "image/png": "[encoded data removed]",
      "text/plain": [
       "<Figure size 432x288 with 1 Axes>"
      ]
     },
     "metadata": {
      "needs_background": "light"
     },
     "output_type": "display_data"
    },
    {
     "data": {
      "image/png": "[encoded data removed]",
      "text/plain": [
       "<Figure size 432x288 with 1 Axes>"
      ]
     },
     "metadata": {
      "needs_background": "light"
     },
     "output_type": "display_data"
    },
    {
     "data": {
      "image/png": "[encoded data removed]",
      "text/plain": [
       "<Figure size 432x288 with 1 Axes>"
      ]
     },
     "metadata": {
      "needs_background": "light"
     },
     "output_type": "display_data"
    },
    {
     "data": {
      "image/png": "[encoded data removed]",
      "text/plain": [
       "<Figure size 432x288 with 1 Axes>"
      ]
     },
     "metadata": {
      "needs_background": "light"
     },
     "output_type": "display_data"
    },
    {
     "data": {
      "image/png": "[encoded data removed]",
      "text/plain": [
       "<Figure size 432x288 with 1 Axes>"
      ]
     },
     "metadata": {
      "needs_background": "light"
     },
     "output_type": "display_data"
    },
    {
     "data": {
      "image/png": "[encoded data removed]",
      "text/plain": [
       "<Figure size 432x288 with 1 Axes>"
      ]
     },
     "metadata": {
      "needs_background": "light"
     },
     "output_type": "display_data"
    },
    {
     "data": {
      "image/png": "[encoded data removed]",
      "text/plain": [
       "<Figure size 432x288 with 1 Axes>"
      ]
     },
     "metadata": {
      "needs_background": "light"
     },
     "output_type": "display_data"
    },
    {
     "data": {
      "image/png": "[encoded data removed]",
      "text/plain": [
       "<Figure size 432x288 with 1 Axes>"
      ]
     },
     "metadata": {
      "needs_background": "light"
     },
     "output_type": "display_data"
    },
    {
     "data": {
      "image/png": "[encoded data removed]",
      "text/plain": [
       "<Figure size 432x288 with 1 Axes>"
      ]
     },
     "metadata": {
      "needs_background": "light"
     },
     "output_type": "display_data"
    },
    {
     "data": {
      "image/png": "[encoded data removed]",
      "text/plain": [
       "<Figure size 432x288 with 1 Axes>"
      ]
     },
     "metadata": {
      "needs_background": "light"
     },
     "output_type": "display_data"
    }
   ],
   "source": [
    "# iterate through columns\n",
    "for col in df.columns:\n",
    "#     determine that it is a number type\n",
    "    if np.issubdtype(df[col].dtype, np.number):\n",
    "        df[col].hist()\n",
    "        plt.title(col)\n",
    "        plt.show()\n",
    "        sns.boxplot(data=df, x=col)\n",
    "        plt.show()"
   ]
  },
  {
   "cell_type": "code",
   "execution_count": 10,
   "id": "52efc989",
   "metadata": {},
   "outputs": [],
   "source": [
    "# Looks like only temperature, rainfall, and flyers are normally distributed"
   ]
  },
  {
   "cell_type": "code",
   "execution_count": 11,
   "id": "6e9c8945",
   "metadata": {
    "scrolled": false
   },
   "outputs": [
    {
     "name": "stdout",
     "output_type": "stream",
     "text": [
      "Temperature Outliers with Abs(sigma) >= 2 \n",
      "\n",
      "|     | Date     | Day      |   Temperature |   Rainfall |   Flyers |   Price |   Sales |\n",
      "|----:|:---------|:---------|--------------:|-----------:|---------:|--------:|--------:|\n",
      "|  41 | 2/11/17  | Saturday |         212   |       0.91 |       35 |     0.5 |      21 |\n",
      "| 166 | 6/16/17  | Friday   |          99.3 |       0.47 |       77 |     0.5 |      41 |\n",
      "| 176 | 6/26/17  | Monday   |         102.6 |       0.47 |       60 |     0.5 |      42 |\n",
      "| 181 | 7/1/17   | Saturday |         102.9 |       0.47 |       59 |     0.5 |     143 |\n",
      "| 190 | 7/10/17  | Monday   |          98   |       0.49 |       66 |     0.5 |      40 |\n",
      "| 198 | 7/18/17  | Tuesday  |          99.3 |       0.47 |       76 |     0.5 |      41 |\n",
      "| 202 | 7/22/17  | Saturday |          99.6 |       0.47 |       49 |     0.5 |      42 |\n",
      "| 207 | 7/27/17  | Thursday |          97.9 |       0.47 |       74 |     0.5 |      43 |\n",
      "| 338 | 12/5/17  | Tuesday  |          22   |       1.82 |       11 |     0.5 |      10 |\n",
      "| 364 | 12/31/17 | Sunday   |          15.1 |       2.5  |        9 |     0.5 |       7 |\n",
      "\n",
      "\n",
      "Rainfall Outliers with Abs(sigma) >= 2 \n",
      "\n",
      "|     | Date     | Day       |   Temperature |   Rainfall |   Flyers |   Price |   Sales |\n",
      "|----:|:---------|:----------|--------------:|-----------:|---------:|--------:|--------:|\n",
      "|   0 | 1/1/17   | Sunday    |          27   |       2    |       15 |     0.5 |      10 |\n",
      "|   5 | 1/6/17   | Friday    |          25.3 |       1.54 |       23 |     0.5 |      11 |\n",
      "|   6 | 1/7/17   | Saturday  |          32.9 |       1.54 |       19 |     0.5 |      13 |\n",
      "|  10 | 1/11/17  | Wednesday |          32.6 |       1.54 |       23 |     0.5 |      12 |\n",
      "|  15 | 1/16/17  | Monday    |          30.6 |       1.67 |       24 |     0.5 |      12 |\n",
      "|  16 | 1/17/17  | Tuesday   |          32.2 |       1.43 |       26 |     0.5 |      14 |\n",
      "|  19 | 1/20/17  | Friday    |          31.6 |       1.43 |       20 |     0.5 |      12 |\n",
      "|  23 | 1/24/17  | Tuesday   |          28.6 |       1.54 |       20 |     0.5 |      12 |\n",
      "| 337 | 12/4/17  | Monday    |          34.9 |       1.54 |       16 |     0.5 |      13 |\n",
      "| 338 | 12/5/17  | Tuesday   |          22   |       1.82 |       11 |     0.5 |      10 |\n",
      "| 342 | 12/9/17  | Saturday  |          31.2 |       1.43 |       19 |     0.5 |      14 |\n",
      "| 343 | 12/10/17 | Sunday    |          31.3 |       1.82 |       15 |     0.5 |      11 |\n",
      "| 346 | 12/13/17 | Wednesday |          32.2 |       1.43 |       26 |     0.5 |      14 |\n",
      "| 347 | 12/14/17 | Thursday  |          31.9 |       1.54 |       24 |     0.5 |      13 |\n",
      "| 351 | 12/18/17 | Monday    |          30.9 |       1.43 |       27 |     0.5 |      13 |\n",
      "| 355 | 12/22/17 | Friday    |          30.9 |       1.54 |       17 |     0.5 |      13 |\n",
      "| 359 | 12/26/17 | Tuesday   |          28.9 |       1.43 |       23 |     0.5 |      13 |\n",
      "| 363 | 12/30/17 | Saturday  |          30.9 |       1.43 |       22 |     0.5 |      13 |\n",
      "| 364 | 12/31/17 | Sunday    |          15.1 |       2.5  |        9 |     0.5 |       7 |\n",
      "\n",
      "\n",
      "Flyers Outliers with Abs(sigma) >= 2 \n",
      "\n",
      "|     | Date     | Day       |   Temperature |   Rainfall |   Flyers |   Price |   Sales |\n",
      "|----:|:---------|:----------|--------------:|-----------:|---------:|--------:|--------:|\n",
      "| 166 | 6/16/17  | Friday    |          99.3 |       0.47 |       77 |     0.5 |      41 |\n",
      "| 170 | 6/20/17  | Tuesday   |          85.1 |       0.54 |       70 |     0.5 |      37 |\n",
      "| 171 | 6/21/17  | Wednesday |          94.3 |       0.47 |       76 |     0.5 |      41 |\n",
      "| 182 | 7/2/17   | Sunday    |          93.4 |       0.51 |       68 |     0.5 |     158 |\n",
      "| 183 | 7/3/17   | Monday    |          81.5 |       0.54 |       68 |     0.5 |     235 |\n",
      "| 194 | 7/14/17  | Friday    |          92   |       0.5  |       80 |     0.5 |      40 |\n",
      "| 198 | 7/18/17  | Tuesday   |          99.3 |       0.47 |       76 |     0.5 |      41 |\n",
      "| 203 | 7/23/17  | Sunday    |          89.1 |       0.51 |       72 |     0.5 |      37 |\n",
      "| 204 | 7/24/17  | Monday    |          83.5 |       0.57 |       69 |     0.5 |      35 |\n",
      "| 207 | 7/27/17  | Thursday  |          97.9 |       0.47 |       74 |     0.5 |      43 |\n",
      "| 324 | 11/21/17 | Tuesday   |          47   |       0.95 |      -38 |     0.5 |      20 |\n",
      "| 338 | 12/5/17  | Tuesday   |          22   |       1.82 |       11 |     0.5 |      10 |\n",
      "| 364 | 12/31/17 | Sunday    |          15.1 |       2.5  |        9 |     0.5 |       7 |\n",
      "\n",
      "\n"
     ]
    }
   ],
   "source": [
    "#Checking for outliers using 2 sigma decision rule\n",
    "for col in df[['Temperature','Rainfall','Flyers']]:\n",
    "    \n",
    "    \n",
    "    # Calculate the z-score \n",
    "    zscores = pd.Series((df[col] - df[col].mean()) / df[col].std())\n",
    "    \n",
    "    # Finds all of the observations two standard deviations or more.\n",
    "    print(col,\"Outliers with Abs(sigma) >= 2\",\"\\n\")\n",
    "    print( df[zscores.abs() >= 2].to_markdown())\n",
    "    print('\\n') "
   ]
  },
  {
   "cell_type": "markdown",
   "id": "9268da19",
   "metadata": {},
   "source": [
    "- Looks like most of these should be kept except for some that are the same obvious outliers as before.\n",
    "- The temperature outliers all make sense because the more extreme temps correspond with their season.\n",
    "-  The rainfall outliers all seem to be around the same range and are mostly in the winter months where snow may account for some.\n",
    "-  The flyers outliers seem reasonable to be kept as they're within range of each other except for the negative value an two in December, but one is on NYE, a holiday, so makes sense.\n"
   ]
  },
  {
   "cell_type": "markdown",
   "id": "510be827",
   "metadata": {},
   "source": [
    "#### Now use a 3 sigma decision rule to isolate the outliers in the normally distributed columns from lemonade.csv\n"
   ]
  },
  {
   "cell_type": "code",
   "execution_count": 12,
   "id": "6d1b6aa5",
   "metadata": {
    "scrolled": true
   },
   "outputs": [
    {
     "name": "stdout",
     "output_type": "stream",
     "text": [
      "Temperature Outliers with Abs(sigma) >= 3 \n",
      "\n",
      "|     | Date     | Day      |   Temperature |   Rainfall |   Flyers |   Price |   Sales |\n",
      "|----:|:---------|:---------|--------------:|-----------:|---------:|--------:|--------:|\n",
      "|  41 | 2/11/17  | Saturday |         212   |       0.91 |       35 |     0.5 |      21 |\n",
      "| 166 | 6/16/17  | Friday   |          99.3 |       0.47 |       77 |     0.5 |      41 |\n",
      "| 176 | 6/26/17  | Monday   |         102.6 |       0.47 |       60 |     0.5 |      42 |\n",
      "| 181 | 7/1/17   | Saturday |         102.9 |       0.47 |       59 |     0.5 |     143 |\n",
      "| 190 | 7/10/17  | Monday   |          98   |       0.49 |       66 |     0.5 |      40 |\n",
      "| 198 | 7/18/17  | Tuesday  |          99.3 |       0.47 |       76 |     0.5 |      41 |\n",
      "| 202 | 7/22/17  | Saturday |          99.6 |       0.47 |       49 |     0.5 |      42 |\n",
      "| 207 | 7/27/17  | Thursday |          97.9 |       0.47 |       74 |     0.5 |      43 |\n",
      "| 338 | 12/5/17  | Tuesday  |          22   |       1.82 |       11 |     0.5 |      10 |\n",
      "| 364 | 12/31/17 | Sunday   |          15.1 |       2.5  |        9 |     0.5 |       7 |\n",
      "\n",
      "\n",
      "Rainfall Outliers with Abs(sigma) >= 3 \n",
      "\n",
      "|     | Date     | Day       |   Temperature |   Rainfall |   Flyers |   Price |   Sales |\n",
      "|----:|:---------|:----------|--------------:|-----------:|---------:|--------:|--------:|\n",
      "|   0 | 1/1/17   | Sunday    |          27   |       2    |       15 |     0.5 |      10 |\n",
      "|   5 | 1/6/17   | Friday    |          25.3 |       1.54 |       23 |     0.5 |      11 |\n",
      "|   6 | 1/7/17   | Saturday  |          32.9 |       1.54 |       19 |     0.5 |      13 |\n",
      "|  10 | 1/11/17  | Wednesday |          32.6 |       1.54 |       23 |     0.5 |      12 |\n",
      "|  15 | 1/16/17  | Monday    |          30.6 |       1.67 |       24 |     0.5 |      12 |\n",
      "|  16 | 1/17/17  | Tuesday   |          32.2 |       1.43 |       26 |     0.5 |      14 |\n",
      "|  19 | 1/20/17  | Friday    |          31.6 |       1.43 |       20 |     0.5 |      12 |\n",
      "|  23 | 1/24/17  | Tuesday   |          28.6 |       1.54 |       20 |     0.5 |      12 |\n",
      "| 337 | 12/4/17  | Monday    |          34.9 |       1.54 |       16 |     0.5 |      13 |\n",
      "| 338 | 12/5/17  | Tuesday   |          22   |       1.82 |       11 |     0.5 |      10 |\n",
      "| 342 | 12/9/17  | Saturday  |          31.2 |       1.43 |       19 |     0.5 |      14 |\n",
      "| 343 | 12/10/17 | Sunday    |          31.3 |       1.82 |       15 |     0.5 |      11 |\n",
      "| 346 | 12/13/17 | Wednesday |          32.2 |       1.43 |       26 |     0.5 |      14 |\n",
      "| 347 | 12/14/17 | Thursday  |          31.9 |       1.54 |       24 |     0.5 |      13 |\n",
      "| 351 | 12/18/17 | Monday    |          30.9 |       1.43 |       27 |     0.5 |      13 |\n",
      "| 355 | 12/22/17 | Friday    |          30.9 |       1.54 |       17 |     0.5 |      13 |\n",
      "| 359 | 12/26/17 | Tuesday   |          28.9 |       1.43 |       23 |     0.5 |      13 |\n",
      "| 363 | 12/30/17 | Saturday  |          30.9 |       1.43 |       22 |     0.5 |      13 |\n",
      "| 364 | 12/31/17 | Sunday    |          15.1 |       2.5  |        9 |     0.5 |       7 |\n",
      "\n",
      "\n",
      "Flyers Outliers with Abs(sigma) >= 3 \n",
      "\n",
      "|     | Date     | Day       |   Temperature |   Rainfall |   Flyers |   Price |   Sales |\n",
      "|----:|:---------|:----------|--------------:|-----------:|---------:|--------:|--------:|\n",
      "| 166 | 6/16/17  | Friday    |          99.3 |       0.47 |       77 |     0.5 |      41 |\n",
      "| 170 | 6/20/17  | Tuesday   |          85.1 |       0.54 |       70 |     0.5 |      37 |\n",
      "| 171 | 6/21/17  | Wednesday |          94.3 |       0.47 |       76 |     0.5 |      41 |\n",
      "| 182 | 7/2/17   | Sunday    |          93.4 |       0.51 |       68 |     0.5 |     158 |\n",
      "| 183 | 7/3/17   | Monday    |          81.5 |       0.54 |       68 |     0.5 |     235 |\n",
      "| 194 | 7/14/17  | Friday    |          92   |       0.5  |       80 |     0.5 |      40 |\n",
      "| 198 | 7/18/17  | Tuesday   |          99.3 |       0.47 |       76 |     0.5 |      41 |\n",
      "| 203 | 7/23/17  | Sunday    |          89.1 |       0.51 |       72 |     0.5 |      37 |\n",
      "| 204 | 7/24/17  | Monday    |          83.5 |       0.57 |       69 |     0.5 |      35 |\n",
      "| 207 | 7/27/17  | Thursday  |          97.9 |       0.47 |       74 |     0.5 |      43 |\n",
      "| 324 | 11/21/17 | Tuesday   |          47   |       0.95 |      -38 |     0.5 |      20 |\n",
      "| 338 | 12/5/17  | Tuesday   |          22   |       1.82 |       11 |     0.5 |      10 |\n",
      "| 364 | 12/31/17 | Sunday    |          15.1 |       2.5  |        9 |     0.5 |       7 |\n",
      "\n",
      "\n"
     ]
    }
   ],
   "source": [
    "#Checking for outliers using 2 sigma decision rule\n",
    "for col in df[['Temperature','Rainfall','Flyers']]:\n",
    "    \n",
    "    \n",
    "    # Calculate the z-score \n",
    "    zscores = pd.Series((df[col] - df[col].mean()) / df[col].std())\n",
    "    \n",
    "    # Finds all of the observations two standard deviations or more.\n",
    "    print(col,\"Outliers with Abs(sigma) >= 3\",\"\\n\")\n",
    "    print( df[zscores.abs() >= 2].to_markdown())\n",
    "    print('\\n') "
   ]
  },
  {
   "cell_type": "markdown",
   "id": "b72dbed5",
   "metadata": {},
   "source": [
    "- Eliminated more outliers than the 2 sigma"
   ]
  }
 ],
 "metadata": {
  "kernelspec": {
   "display_name": "Python 3",
   "language": "python",
   "name": "python3"
  },
  "language_info": {
   "codemirror_mode": {
    "name": "ipython",
    "version": 3
   },
   "file_extension": ".py",
   "mimetype": "text/x-python",
   "name": "python",
   "nbconvert_exporter": "python",
   "pygments_lexer": "ipython3",
   "version": "3.8.8"
  }
 },
 "nbformat": 4,
 "nbformat_minor": 5
}
